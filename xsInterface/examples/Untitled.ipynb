{
 "cells": [
  {
   "cell_type": "code",
   "execution_count": null,
   "id": "43e35b44",
   "metadata": {},
   "outputs": [],
   "source": [
    "core = xsInterface.MultiSet()"
   ]
  },
  {
   "cell_type": "code",
   "execution_count": null,
   "id": "a7ed2edb",
   "metadata": {},
   "outputs": [],
   "source": [
    "core.add(tmpSingleSet)"
   ]
  },
  {
   "cell_type": "code",
   "execution_count": null,
   "id": "c05ee535",
   "metadata": {},
   "outputs": [],
   "source": [
    "core.indexes\n",
    "\n",
    ">>> {\n",
    "    'fuelTemp': np.array([900,1200,1500]),\n",
    "    'boron'   : np.array([0,750,1500])   ,\n",
    "    'modDens' : np.array([0.2,0.5,0.7])  ,\n",
    "    'xPin'    : np.array([1,2,3,4,5])    ,\n",
    "    'xAssem'  : np.array([1,2,3,4,5])\n",
    "}\n",
    "\n",
    "core.indexes.points\n",
    "\n",
    ">>> {\n",
    "    'fuelTemp': 0,\n",
    "    'boron'   : 1,\n",
    "    'modDens' : 2,\n",
    "    'xPin'    : 3,\n",
    "    'xAssem'  : 4\n",
    "}\n",
    "\n",
    "core.indexes.vec\n",
    "\n",
    ">>> [3,3,3,5,5]"
   ]
  },
  {
   "cell_type": "code",
   "execution_count": null,
   "id": "11122381",
   "metadata": {},
   "outputs": [],
   "source": [
    "core.insert(fuelTemp=1000,boron=1000)\n",
    "core.nodes()\n",
    "\n",
    ">>> {\n",
    "    'fuelTemp': np.array([900,1000,1200,1500]),\n",
    "    'boron'   : np.array([0,750,1000,1500])   ,\n",
    "    'modDens' : np.array([0.2,0.5,0.7])       ,\n",
    "    'xPin'    : np.array([1,2,3,4,5,7,8,9])   ,\n",
    "    'xAssem'  : np.array([1,2,3,4,5])\n",
    "}\n",
    "\n",
    "core2 = core.extract(fuelTemp=1000,boron=1000,modDens=0.5)\n",
    "core2.nodes()\n",
    "\n",
    ">>> {\n",
    "    'fuelTemp': np.array([1000])           ,\n",
    "    'boron'   : np.array([1000])           ,\n",
    "    'modDens' : np.array([0.5])            ,\n",
    "    'xPin'    : np.array([1,2,3,4,5,7,8,9]),\n",
    "    'xAssem'  : np.array([1,2,3,4,5])\n",
    "}\n",
    "\n",
    "core2 = core.extract(fuelTemp=[1000,1100],boron=1000,modDens=0.5)\n",
    "\n",
    ">>> Error\n",
    "\n",
    "core2 = core.extract(fuelTemp=[1000,1100],boron=1000,modDens=0.5,interp=True)\n",
    "core2.nodes()\n",
    "\n",
    ">>> {\n",
    "    'fuelTemp': np.array([1000,1100])      ,\n",
    "    'boron'   : np.array([1000])           ,\n",
    "    'modDens' : np.array([0.5])            ,\n",
    "    'xPin'    : np.array([1,2,3,4,5,7,8,9]),\n",
    "    'xAssem'  : np.array([1,2,3,4,5])\n",
    "}"
   ]
  },
  {
   "cell_type": "code",
   "execution_count": null,
   "id": "f7d55526",
   "metadata": {},
   "outputs": [],
   "source": [
    "setA.nodes()\n",
    "\n",
    ">>> {\n",
    "    'fuelTemp': np.array([1000]),\n",
    "    'boron'   : np.array([750])\n",
    "}\n",
    "\n",
    "setB.nodes()\n",
    "\n",
    ">>> {\n",
    "    'fuelTemp': np.array([900]),\n",
    "    'boron'   : np.array([0])\n",
    "}\n",
    "\n",
    "core = xsInterface.MultiSet()\n",
    "core.add(setA,setB)\n",
    "core.nodes()\n",
    "\n",
    ">>> {\n",
    "    'fuelTemp': np.array([900,1000]),\n",
    "    'boron'   : np.array([0,750])\n",
    "}\n",
    "\n",
    "core.isFilled()\n",
    "\n",
    ">>> {\n",
    "    np.array([[True,False],[False,True]])\n",
    "}"
   ]
  },
  {
   "cell_type": "code",
   "execution_count": null,
   "id": "e9c64667",
   "metadata": {},
   "outputs": [],
   "source": [
    "core.condense(tallyEdges=[0.625])\n",
    "core.ng\n",
    "\n",
    ">>> 2"
   ]
  },
  {
   "cell_type": "code",
   "execution_count": null,
   "id": "22be7170",
   "metadata": {},
   "outputs": [],
   "source": [
    "core2.tallies()\n",
    "\n",
    ">>> {\n",
    "    'rabsxs' : np.array(),\n",
    "    'flux'   : np.array(),\n",
    "    'scatter': np.array()\n",
    "}\n",
    "\n",
    "core2.props()\n",
    "\n",
    ">>> {\n",
    "    'cladDens': np.arr\n",
    "}"
   ]
  }
 ],
 "metadata": {
  "kernelspec": {
   "display_name": "Python 3 (ipykernel)",
   "language": "python",
   "name": "python3"
  },
  "language_info": {
   "codemirror_mode": {
    "name": "ipython",
    "version": 3
   },
   "file_extension": ".py",
   "mimetype": "text/x-python",
   "name": "python",
   "nbconvert_exporter": "python",
   "pygments_lexer": "ipython3",
   "version": "3.9.7"
  }
 },
 "nbformat": 4,
 "nbformat_minor": 5
}

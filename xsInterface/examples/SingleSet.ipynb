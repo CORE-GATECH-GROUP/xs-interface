{
 "cells": [
  {
   "cell_type": "markdown",
   "id": "b3016b46",
   "metadata": {},
   "source": [
    "# SingleSet object"
   ]
  },
  {
   "cell_type": "code",
   "execution_count": 1,
   "id": "91634a56",
   "metadata": {},
   "outputs": [],
   "source": [
    "import xsInterface\n",
    "import numpy as np"
   ]
  },
  {
   "cell_type": "markdown",
   "id": "6f647b12",
   "metadata": {},
   "source": [
    "## Initialization"
   ]
  },
  {
   "cell_type": "code",
   "execution_count": 2,
   "id": "18162e4a",
   "metadata": {},
   "outputs": [],
   "source": [
    "xsLabel = {'abs':'reduced order absorption cross section',\n",
    "           'fiss':'fission cross section',\n",
    "           'tanspxs':'trasnport cross section'}\n",
    "dataLabel = {}\n",
    "set0 = xsInterface.SingleSet(dataLabel,xsLabel,3)"
   ]
  },
  {
   "cell_type": "markdown",
   "id": "666d0133",
   "metadata": {},
   "source": [
    "## .add() method"
   ]
  },
  {
   "cell_type": "code",
   "execution_count": 3,
   "id": "c4ad8d19",
   "metadata": {},
   "outputs": [],
   "source": [
    "rabsxs   = np.array([0.0222,0.011,0.001])\n",
    "fissxs   = np.array([0.0111,0.021,0.002])\n",
    "transpxs = np.array([0.0272,0.033,0.002])\n",
    "flux     = 1e14*np.array([0.9,0.05,0.05])\n",
    "set0.add(np.ndarray,rabsxs=rabsxs,fissxs=fissxs,transpxs=transpxs,flux=flux)"
   ]
  },
  {
   "cell_type": "markdown",
   "id": "770e718b",
   "metadata": {},
   "source": [
    "## .get() method"
   ]
  },
  {
   "cell_type": "code",
   "execution_count": 4,
   "id": "4a73bd5b",
   "metadata": {},
   "outputs": [
    {
     "data": {
      "text/plain": [
       "{'rabsxs': array([0.0222, 0.011 , 0.001 ]),\n",
       " 'fissxs': array([0.0111, 0.021 , 0.002 ]),\n",
       " 'transpxs': array([0.0272, 0.033 , 0.002 ]),\n",
       " 'flux': array([9.e+13, 5.e+12, 5.e+12])}"
      ]
     },
     "execution_count": 4,
     "metadata": {},
     "output_type": "execute_result"
    }
   ],
   "source": [
    "set0.get('rabsxs','fissxs','transpxs','flux')"
   ]
  },
  {
   "cell_type": "markdown",
   "id": "c79f9041",
   "metadata": {},
   "source": [
    "## .condense() method"
   ]
  },
  {
   "cell_type": "code",
   "execution_count": 5,
   "id": "4337d073",
   "metadata": {},
   "outputs": [
    {
     "data": {
      "text/plain": [
       "{'rabsxs': 0.02058,\n",
       " 'fissxs': 0.01114,\n",
       " 'transpxs': 0.02623,\n",
       " 'flux': 100000000000000.0}"
      ]
     },
     "execution_count": 5,
     "metadata": {},
     "output_type": "execute_result"
    }
   ],
   "source": [
    "set0.condense('rabsxs','fissxs','transpxs')\n",
    "set0.get('rabsxs','fissxs','transpxs','flux')"
   ]
  },
  {
   "cell_type": "code",
   "execution_count": null,
   "id": "1379ad80",
   "metadata": {},
   "outputs": [],
   "source": []
  }
 ],
 "metadata": {
  "kernelspec": {
   "display_name": "Python 3 (ipykernel)",
   "language": "python",
   "name": "python3"
  },
  "language_info": {
   "codemirror_mode": {
    "name": "ipython",
    "version": 3
   },
   "file_extension": ".py",
   "mimetype": "text/x-python",
   "name": "python",
   "nbconvert_exporter": "python",
   "pygments_lexer": "ipython3",
   "version": "3.9.7"
  }
 },
 "nbformat": 4,
 "nbformat_minor": 5
}

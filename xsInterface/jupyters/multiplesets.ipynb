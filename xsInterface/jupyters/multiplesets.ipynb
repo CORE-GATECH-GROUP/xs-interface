{
 "cells": [
  {
   "cell_type": "markdown",
   "metadata": {},
   "source": [
    "# MultipleSets"
   ]
  },
  {
   "cell_type": "markdown",
   "metadata": {},
   "source": [
    "Example on how to collect, store, and process data using the ``MultipleSets`` container."
   ]
  },
  {
   "cell_type": "markdown",
   "metadata": {},
   "source": [
    "```python\n",
    "    ms = MultipleSets(macro=True, micro=False, kinetics=False, meta=False)\n",
    "```"
   ]
  },
  {
   "cell_type": "markdown",
   "metadata": {},
   "source": [
    "## Class Description"
   ]
  },
  {
   "cell_type": "markdown",
   "metadata": {},
   "source": [
    "**Parameters**\n",
    "\n",
    "- states : Perturbations object\n",
    "    an object with perturbation states including branches, history,\n",
    "    and time parameters.\n",
    "- macro : bool\n",
    "    flag to incdicate if all data in macro must be defined\n",
    "- micro : bool\n",
    "    flag to incdicate if all data in micro must be defined\n",
    "- kinetics : bool\n",
    "    flag to incdicate if all data in kinetics must be defined\n",
    "- meta : bool\n",
    "    flag to incdicate if all data in meta must be defined\n",
    "\n",
    "**Attributes**\n",
    "\n",
    "- setIds : list of strings\n",
    "    complete list of strings for all the sets to be provided.\n",
    "- macro : bool\n",
    "    flag to incdicate if all data in macro must be defined\n",
    "- micro : bool\n",
    "    flag to incdicate if all data in micro must be defined\n",
    "- kinetics : bool\n",
    "    flag to incdicate if all data in kinetics must be defined\n",
    "- meta : bool\n",
    "    flag to incdicate if all data in meta must be defined\n",
    "- sets : dict\n",
    "    keys are indices and values are ``SingleSet`` objects.\n",
    "- nsets : int\n",
    "    number of ``SingleSet``s on the ``MultipleSets`` object.\n",
    "- states : dict\n",
    "    description of all the perturbation states.\n",
    "- setsmap : dict\n",
    "    link between the nametuples that describe the state and\n",
    "    indices in the ``sets`` dict.\n",
    "\n",
    "\n",
    " **Methods**\n",
    "\n",
    "```python\n",
    "-----------------------------------------------------------\n",
    "    Add(*argv)\n",
    "-----------------------------------------------------------\n",
    "```\n",
    "\n",
    "\n",
    "*Add a single set data object*\n",
    "\n",
    "- argv : non-named arguments\n",
    "    non-keyworded variable length argument list. Each argument\n",
    "    represents a ``SingleSet`` object that contains all the required\n",
    "    attributes, e.g. ``macro`` and ``meta``.\n",
    "    \n",
    "```python\n",
    "-----------------------------------------------------------\n",
    "    Get(setIdx=None, branch=None, time=None, history=None,\n",
    "        errFlag=False)\n",
    "-----------------------------------------------------------\n",
    "```\n",
    "*get a SingleSet object for a specific state* \n",
    "- setIdx : int\n",
    "    index/position of the set in the sets dictionary\n",
    "- history : array\n",
    "    values that represent a history\n",
    "- time : float/number\n",
    "    value of the time point\n",
    "- branch : array\n",
    "    set of values for the specific branch\n",
    "- errFlag : boolean\n",
    "    indicates whether error should be raised if state not found\n",
    "\n",
    "```python\n",
    "-----------------------------------------------------------\n",
    "    Condense(cutoffE)\n",
    "-----------------------------------------------------------\n",
    "```\n",
    "*Energy condensation method* \n",
    "- cutoffE : 1-dim array\n",
    "    energy cutoffs\n",
    "\n",
    "```python\n",
    "-----------------------------------------------------------\n",
    "    Manipulate(modes, attrs, attrs1, attrs2)\n",
    "-----------------------------------------------------------\n",
    "```\n",
    "*Mathematical operation between two attributes* \n",
    "- modes : string or list of strings\n",
    "    types of the mathematical relation\n",
    "    [\"multiply\", \"divide\", \"add\", \"subtract\"]\n",
    "- attrs : string or list of strings\n",
    "    name/ss of attribute/s where results will be written to.            \n",
    "- attrs1 : string or list of strings\n",
    "    names of attributes type-1 (can be macro or micro)\n",
    "- attrs2 : string or list of strings\n",
    "    names of attributes type-2 (can be macro or micro) \n",
    "\n",
    "\n",
    "    \n",
    "```python\n",
    "-----------------------------------------------------------\n",
    "    DataTable(attrs=None, macroFlag=None, microFlag=None,\n",
    "              kineticsFlag=None, metaFlag=None)\n",
    "-----------------------------------------------------------\n",
    "```\n",
    "*a table with existing states and values for all attributes*<br>\n",
    "Loops over the ``MultipleSets`` object to collect all existing states\n",
    "and values for a specific attribute.\n",
    "- attrs : string or list of strings\n",
    "    name of existing fields/attributes within a `SingleSet` object\n",
    "- macroFlag : boolean, default is True\n",
    "    flag to indicate if all macro attributes are included in the table\n",
    "- microFlag : boolean, default is True\n",
    "    flag to indicate if all micro attributes are included in the table\n",
    "- kineticsFlag : boolean, default is True\n",
    "    flag to indicate if all kinetics attributes are included in table\n",
    "- metaFlag : boolean, default is False\n",
    "    flag to indicate if all meta attributes are included in the table\n",
    "    \n",
    "```python\n",
    "-----------------------------------------------------------\n",
    "    Values(attrs=None, **kwargs)\n",
    "-----------------------------------------------------------\n",
    "```\n",
    "*Obtain the values of the specific attribute across different states*<br>\n",
    "- attrs : string, list of strings\n",
    "    name of the attributes to be included in the returned table.\n",
    "    If None then all the attributes are returned\n",
    "- kwargs : named arguments\n",
    "    keys represent the data name and value represent the values.\n",
    "    The filtering of data is performed according to kwargs.\n",
    "    The use can filter according to a specific state, time, or history\n",
    "\n",
    "```python\n",
    "-----------------------------------------------------------\n",
    "    CheckFilters(branches=None, histories=None, times=None,\n",
    "                 attrs=None)\n",
    "-----------------------------------------------------------\n",
    "```\n",
    "*Check that data used to filter the multiset container is valid*<br>\n",
    "- branches : dictionary\n",
    "    keys represent the names of the branches and values correspond to\n",
    "    the branches values.\n",
    "- histories : list of strigs\n",
    "    names of the histories. If not provided then \n",
    "- times : list or array of floats\n",
    "    time points to be included\n",
    "- attrs : list of strings\n",
    "    attributes to be included"
   ]
  },
  {
   "cell_type": "markdown",
   "metadata": {},
   "source": [
    "## Execution Sequence"
   ]
  },
  {
   "cell_type": "code",
   "execution_count": 1,
   "metadata": {},
   "outputs": [],
   "source": [
    "from xsInterface.containers.datasettings import DataSettings\n",
    "from xsInterface.containers.perturbationparameters import Perturbations\n",
    "from xsInterface.containers.singleset import SingleSet\n",
    "from xsInterface.containers.multiplesets import MultipleSets"
   ]
  },
  {
   "cell_type": "markdown",
   "metadata": {},
   "source": [
    "### **Data Settings**\n",
    "\n",
    "Define what data needs to be collected."
   ]
  },
  {
   "cell_type": "code",
   "execution_count": 2,
   "metadata": {},
   "outputs": [],
   "source": [
    "# Reset the data\n",
    "rc = DataSettings(NG=2, DN=7, macro=True, micro=False, kinetics=False,\n",
    "                  meta=False, isotopes=[531350, 541350, 922350], nuclides=\"nd\")\n",
    "# Add the variables names to be collected\n",
    "rc.AddData(\"macro\",\n",
    "           [\"inf_rabs\", \"inf_nsf\", \"kappa\", \"inf_flx\"])\n",
    "rc.AddData(\"macro\", [\"inf_sp0\"])"
   ]
  },
  {
   "cell_type": "code",
   "execution_count": 3,
   "metadata": {},
   "outputs": [
    {
     "data": {
      "text/plain": [
       "['inf_rabs', 'inf_nsf', 'kappa', 'inf_flx', 'inf_sp0']"
      ]
     },
     "execution_count": 3,
     "metadata": {},
     "output_type": "execute_result"
    }
   ],
   "source": [
    "rc.macro\n"
   ]
  },
  {
   "cell_type": "markdown",
   "metadata": {},
   "source": [
    "### Define Perturbation States"
   ]
  },
  {
   "cell_type": "code",
   "execution_count": 4,
   "metadata": {},
   "outputs": [],
   "source": [
    "states = Perturbations(branchN=3, branches=[\"fuel\", \"dens\", \"cool\"],\n",
    "                       histN=2, histories=[\"nom\", \"pert\"],\n",
    "                       timeValues=[0, 2, 2.5, 3, 4], timeUnits='MWd/kg')\n",
    "states.AddBranches(fuel=[600, 900, 1200, 1500],\n",
    "                   dens=[600, 700, 800],\n",
    "                   cool=[500, 600])\n",
    "states.AddHistories(nom=[900, 700, 550],\n",
    "                    pert=[950, 750, 600])"
   ]
  },
  {
   "cell_type": "markdown",
   "metadata": {},
   "source": [
    "### Multiple Sets"
   ]
  },
  {
   "cell_type": "code",
   "execution_count": 5,
   "metadata": {},
   "outputs": [],
   "source": [
    "ms = MultipleSets(states, macro=True, micro=False, kinetics=False, meta=False)"
   ]
  },
  {
   "cell_type": "code",
   "execution_count": 6,
   "metadata": {},
   "outputs": [
    {
     "data": {
      "text/plain": [
       "['inf_rabs', 'inf_nsf', 'kappa', 'inf_flx', 'inf_sp0']"
      ]
     },
     "execution_count": 6,
     "metadata": {},
     "output_type": "execute_result"
    }
   ],
   "source": [
    "rc.macro"
   ]
  },
  {
   "cell_type": "markdown",
   "metadata": {},
   "source": [
    "### Data for Single States"
   ]
  },
  {
   "cell_type": "markdown",
   "metadata": {},
   "source": [
    "#### State-0"
   ]
  },
  {
   "cell_type": "code",
   "execution_count": 7,
   "metadata": {},
   "outputs": [],
   "source": [
    "# Reset and define operation state point\n",
    "ss0 = SingleSet(rc, states, fluxName=\"inf_flx\",\n",
    "               energyStruct=[10.0E+6, 0.6025, 0.0])\n",
    "ss0.AddState([600.0, 600, 500], \"nom\", time=2.5)\n",
    "# macro data\n",
    "ss0.AddData(\"macro\", inf_rabs=[0.1, 0.2], inf_nsf=[0.3, 0.4],\n",
    "           kappa=[0.3, 0.4], inf_flx=[0.3, 0.4])\n",
    "ss0.AddData(\"macro\", inf_sp0=[[0.1, 0.2], [-0.05, 0.3]])"
   ]
  },
  {
   "cell_type": "code",
   "execution_count": 8,
   "metadata": {},
   "outputs": [
    {
     "data": {
      "text/plain": [
       "['inf_rabs', 'inf_nsf', 'kappa', 'inf_flx', 'inf_sp0']"
      ]
     },
     "execution_count": 8,
     "metadata": {},
     "output_type": "execute_result"
    }
   ],
   "source": [
    "rc.macro"
   ]
  },
  {
   "cell_type": "code",
   "execution_count": 9,
   "metadata": {},
   "outputs": [],
   "source": [
    "ms.Add(ss0)"
   ]
  },
  {
   "cell_type": "code",
   "execution_count": 10,
   "metadata": {},
   "outputs": [
    {
     "data": {
      "text/plain": [
       "['inf_rabs', 'inf_nsf', 'kappa', 'inf_flx', 'inf_sp0']"
      ]
     },
     "execution_count": 10,
     "metadata": {},
     "output_type": "execute_result"
    }
   ],
   "source": [
    "rc.macro"
   ]
  },
  {
   "cell_type": "markdown",
   "metadata": {},
   "source": [
    "#### State-1"
   ]
  },
  {
   "cell_type": "code",
   "execution_count": 11,
   "metadata": {},
   "outputs": [],
   "source": [
    "# Reset and define operation state point\n",
    "ss1 = SingleSet(rc, states, fluxName=\"inf_flx\",\n",
    "               energyStruct=[10.0E+6, 0.6025, 0.0])\n",
    "ss1.AddState([900.0, 600, 500], \"nom\", time=2.5)\n",
    "# macro data\n",
    "ss1.AddData(\"macro\", inf_rabs=[0.1, 0.2], inf_nsf=[0.3, 0.4],\n",
    "           kappa=[0.3, 0.4], inf_flx=[0.3, 0.4])\n",
    "ss1.AddData(\"macro\", inf_sp0=[[0.1, 0.2], [-0.05, 0.3]])"
   ]
  },
  {
   "cell_type": "code",
   "execution_count": 12,
   "metadata": {},
   "outputs": [],
   "source": [
    "ms.Add(ss1)"
   ]
  },
  {
   "cell_type": "markdown",
   "metadata": {},
   "source": [
    "#### State-2"
   ]
  },
  {
   "cell_type": "code",
   "execution_count": 13,
   "metadata": {},
   "outputs": [],
   "source": [
    "# Reset and define operation state point\n",
    "ss2 = SingleSet(rc, states, fluxName=\"inf_flx\",\n",
    "               energyStruct=[10.0E+6, 0.6025, 0.0])\n",
    "ss2.AddState([1200.0, 600, 500], \"nom\", time=2.5)\n",
    "# macro data\n",
    "ss2.AddData(\"macro\", inf_rabs=[0.1, 0.2], inf_nsf=[0.3, 0.4],\n",
    "           kappa=[0.3, 0.4], inf_flx=[0.3, 0.4])\n",
    "ss2.AddData(\"macro\", inf_sp0=[[0.1, 0.2], [-0.05, 0.3]])"
   ]
  },
  {
   "cell_type": "code",
   "execution_count": 14,
   "metadata": {},
   "outputs": [],
   "source": [
    "ms.Add(ss2)"
   ]
  },
  {
   "cell_type": "markdown",
   "metadata": {},
   "source": [
    "### Create a table from MultipleSets Container"
   ]
  },
  {
   "cell_type": "code",
   "execution_count": 15,
   "metadata": {},
   "outputs": [],
   "source": [
    "pdTable = ms.DataTable(['inf_nsf', 'inf_flx'])"
   ]
  },
  {
   "cell_type": "code",
   "execution_count": 16,
   "metadata": {},
   "outputs": [
    {
     "data": {
      "text/html": [
       "<div>\n",
       "<style scoped>\n",
       "    .dataframe tbody tr th:only-of-type {\n",
       "        vertical-align: middle;\n",
       "    }\n",
       "\n",
       "    .dataframe tbody tr th {\n",
       "        vertical-align: top;\n",
       "    }\n",
       "\n",
       "    .dataframe thead th {\n",
       "        text-align: right;\n",
       "    }\n",
       "</style>\n",
       "<table border=\"1\" class=\"dataframe\">\n",
       "  <thead>\n",
       "    <tr style=\"text-align: right;\">\n",
       "      <th></th>\n",
       "      <th>history</th>\n",
       "      <th>time</th>\n",
       "      <th>fuel</th>\n",
       "      <th>dens</th>\n",
       "      <th>cool</th>\n",
       "      <th>inf_nsf</th>\n",
       "      <th>inf_flx</th>\n",
       "    </tr>\n",
       "  </thead>\n",
       "  <tbody>\n",
       "    <tr>\n",
       "      <th>0</th>\n",
       "      <td>nom</td>\n",
       "      <td>2.5</td>\n",
       "      <td>600.0</td>\n",
       "      <td>600.0</td>\n",
       "      <td>500.0</td>\n",
       "      <td>[0.3, 0.4]</td>\n",
       "      <td>[0.3, 0.4]</td>\n",
       "    </tr>\n",
       "    <tr>\n",
       "      <th>1</th>\n",
       "      <td>nom</td>\n",
       "      <td>2.5</td>\n",
       "      <td>900.0</td>\n",
       "      <td>600.0</td>\n",
       "      <td>500.0</td>\n",
       "      <td>[0.3, 0.4]</td>\n",
       "      <td>[0.3, 0.4]</td>\n",
       "    </tr>\n",
       "    <tr>\n",
       "      <th>2</th>\n",
       "      <td>nom</td>\n",
       "      <td>2.5</td>\n",
       "      <td>1200.0</td>\n",
       "      <td>600.0</td>\n",
       "      <td>500.0</td>\n",
       "      <td>[0.3, 0.4]</td>\n",
       "      <td>[0.3, 0.4]</td>\n",
       "    </tr>\n",
       "  </tbody>\n",
       "</table>\n",
       "</div>"
      ],
      "text/plain": [
       "  history  time    fuel   dens   cool     inf_nsf     inf_flx\n",
       "0     nom   2.5   600.0  600.0  500.0  [0.3, 0.4]  [0.3, 0.4]\n",
       "1     nom   2.5   900.0  600.0  500.0  [0.3, 0.4]  [0.3, 0.4]\n",
       "2     nom   2.5  1200.0  600.0  500.0  [0.3, 0.4]  [0.3, 0.4]"
      ]
     },
     "execution_count": 16,
     "metadata": {},
     "output_type": "execute_result"
    }
   ],
   "source": [
    "pdTable"
   ]
  },
  {
   "cell_type": "markdown",
   "metadata": {},
   "source": [
    "### Create Values from MultipleSets Container"
   ]
  },
  {
   "cell_type": "code",
   "execution_count": 17,
   "metadata": {},
   "outputs": [
    {
     "data": {
      "text/html": [
       "<div>\n",
       "<style scoped>\n",
       "    .dataframe tbody tr th:only-of-type {\n",
       "        vertical-align: middle;\n",
       "    }\n",
       "\n",
       "    .dataframe tbody tr th {\n",
       "        vertical-align: top;\n",
       "    }\n",
       "\n",
       "    .dataframe thead th {\n",
       "        text-align: right;\n",
       "    }\n",
       "</style>\n",
       "<table border=\"1\" class=\"dataframe\">\n",
       "  <thead>\n",
       "    <tr style=\"text-align: right;\">\n",
       "      <th></th>\n",
       "      <th>history</th>\n",
       "      <th>time</th>\n",
       "      <th>fuel</th>\n",
       "      <th>dens</th>\n",
       "      <th>cool</th>\n",
       "      <th>inf_nsf</th>\n",
       "    </tr>\n",
       "  </thead>\n",
       "  <tbody>\n",
       "    <tr>\n",
       "      <th>1</th>\n",
       "      <td>nom</td>\n",
       "      <td>2.5</td>\n",
       "      <td>900.0</td>\n",
       "      <td>600.0</td>\n",
       "      <td>500.0</td>\n",
       "      <td>[0.3, 0.4]</td>\n",
       "    </tr>\n",
       "  </tbody>\n",
       "</table>\n",
       "</div>"
      ],
      "text/plain": [
       "  history  time   fuel   dens   cool     inf_nsf\n",
       "1     nom   2.5  900.0  600.0  500.0  [0.3, 0.4]"
      ]
     },
     "execution_count": 17,
     "metadata": {},
     "output_type": "execute_result"
    }
   ],
   "source": [
    "ms.Values(attrs=[\"inf_nsf\"], fuel=900)"
   ]
  },
  {
   "cell_type": "code",
   "execution_count": 18,
   "metadata": {},
   "outputs": [
    {
     "data": {
      "text/html": [
       "<div>\n",
       "<style scoped>\n",
       "    .dataframe tbody tr th:only-of-type {\n",
       "        vertical-align: middle;\n",
       "    }\n",
       "\n",
       "    .dataframe tbody tr th {\n",
       "        vertical-align: top;\n",
       "    }\n",
       "\n",
       "    .dataframe thead th {\n",
       "        text-align: right;\n",
       "    }\n",
       "</style>\n",
       "<table border=\"1\" class=\"dataframe\">\n",
       "  <thead>\n",
       "    <tr style=\"text-align: right;\">\n",
       "      <th></th>\n",
       "      <th>history</th>\n",
       "      <th>time</th>\n",
       "      <th>fuel</th>\n",
       "      <th>dens</th>\n",
       "      <th>cool</th>\n",
       "      <th>inf_nsf</th>\n",
       "    </tr>\n",
       "  </thead>\n",
       "  <tbody>\n",
       "    <tr>\n",
       "      <th>0</th>\n",
       "      <td>nom</td>\n",
       "      <td>2.5</td>\n",
       "      <td>600.0</td>\n",
       "      <td>600.0</td>\n",
       "      <td>500.0</td>\n",
       "      <td>[0.3, 0.4]</td>\n",
       "    </tr>\n",
       "    <tr>\n",
       "      <th>1</th>\n",
       "      <td>nom</td>\n",
       "      <td>2.5</td>\n",
       "      <td>900.0</td>\n",
       "      <td>600.0</td>\n",
       "      <td>500.0</td>\n",
       "      <td>[0.3, 0.4]</td>\n",
       "    </tr>\n",
       "    <tr>\n",
       "      <th>2</th>\n",
       "      <td>nom</td>\n",
       "      <td>2.5</td>\n",
       "      <td>1200.0</td>\n",
       "      <td>600.0</td>\n",
       "      <td>500.0</td>\n",
       "      <td>[0.3, 0.4]</td>\n",
       "    </tr>\n",
       "  </tbody>\n",
       "</table>\n",
       "</div>"
      ],
      "text/plain": [
       "  history  time    fuel   dens   cool     inf_nsf\n",
       "0     nom   2.5   600.0  600.0  500.0  [0.3, 0.4]\n",
       "1     nom   2.5   900.0  600.0  500.0  [0.3, 0.4]\n",
       "2     nom   2.5  1200.0  600.0  500.0  [0.3, 0.4]"
      ]
     },
     "execution_count": 18,
     "metadata": {},
     "output_type": "execute_result"
    }
   ],
   "source": [
    "ms.Values(attrs=[\"inf_nsf\"], dens=600, cool=500)"
   ]
  },
  {
   "cell_type": "code",
   "execution_count": 19,
   "metadata": {},
   "outputs": [
    {
     "data": {
      "text/html": [
       "<div>\n",
       "<style scoped>\n",
       "    .dataframe tbody tr th:only-of-type {\n",
       "        vertical-align: middle;\n",
       "    }\n",
       "\n",
       "    .dataframe tbody tr th {\n",
       "        vertical-align: top;\n",
       "    }\n",
       "\n",
       "    .dataframe thead th {\n",
       "        text-align: right;\n",
       "    }\n",
       "</style>\n",
       "<table border=\"1\" class=\"dataframe\">\n",
       "  <thead>\n",
       "    <tr style=\"text-align: right;\">\n",
       "      <th></th>\n",
       "      <th>history</th>\n",
       "      <th>time</th>\n",
       "      <th>fuel</th>\n",
       "      <th>dens</th>\n",
       "      <th>cool</th>\n",
       "      <th>inf_nsf</th>\n",
       "    </tr>\n",
       "  </thead>\n",
       "  <tbody>\n",
       "    <tr>\n",
       "      <th>0</th>\n",
       "      <td>nom</td>\n",
       "      <td>2.5</td>\n",
       "      <td>600.0</td>\n",
       "      <td>600.0</td>\n",
       "      <td>500.0</td>\n",
       "      <td>[0.3, 0.4]</td>\n",
       "    </tr>\n",
       "    <tr>\n",
       "      <th>1</th>\n",
       "      <td>nom</td>\n",
       "      <td>2.5</td>\n",
       "      <td>900.0</td>\n",
       "      <td>600.0</td>\n",
       "      <td>500.0</td>\n",
       "      <td>[0.3, 0.4]</td>\n",
       "    </tr>\n",
       "    <tr>\n",
       "      <th>2</th>\n",
       "      <td>nom</td>\n",
       "      <td>2.5</td>\n",
       "      <td>1200.0</td>\n",
       "      <td>600.0</td>\n",
       "      <td>500.0</td>\n",
       "      <td>[0.3, 0.4]</td>\n",
       "    </tr>\n",
       "  </tbody>\n",
       "</table>\n",
       "</div>"
      ],
      "text/plain": [
       "  history  time    fuel   dens   cool     inf_nsf\n",
       "0     nom   2.5   600.0  600.0  500.0  [0.3, 0.4]\n",
       "1     nom   2.5   900.0  600.0  500.0  [0.3, 0.4]\n",
       "2     nom   2.5  1200.0  600.0  500.0  [0.3, 0.4]"
      ]
     },
     "execution_count": 19,
     "metadata": {},
     "output_type": "execute_result"
    }
   ],
   "source": [
    "ms.Values(attrs=[\"inf_nsf\"], history=\"nom\")"
   ]
  },
  {
   "cell_type": "code",
   "execution_count": 20,
   "metadata": {},
   "outputs": [
    {
     "data": {
      "text/html": [
       "<div>\n",
       "<style scoped>\n",
       "    .dataframe tbody tr th:only-of-type {\n",
       "        vertical-align: middle;\n",
       "    }\n",
       "\n",
       "    .dataframe tbody tr th {\n",
       "        vertical-align: top;\n",
       "    }\n",
       "\n",
       "    .dataframe thead th {\n",
       "        text-align: right;\n",
       "    }\n",
       "</style>\n",
       "<table border=\"1\" class=\"dataframe\">\n",
       "  <thead>\n",
       "    <tr style=\"text-align: right;\">\n",
       "      <th></th>\n",
       "      <th>history</th>\n",
       "      <th>time</th>\n",
       "      <th>fuel</th>\n",
       "      <th>dens</th>\n",
       "      <th>cool</th>\n",
       "      <th>inf_nsf</th>\n",
       "    </tr>\n",
       "  </thead>\n",
       "  <tbody>\n",
       "    <tr>\n",
       "      <th>0</th>\n",
       "      <td>nom</td>\n",
       "      <td>2.5</td>\n",
       "      <td>600.0</td>\n",
       "      <td>600.0</td>\n",
       "      <td>500.0</td>\n",
       "      <td>[0.3, 0.4]</td>\n",
       "    </tr>\n",
       "    <tr>\n",
       "      <th>1</th>\n",
       "      <td>nom</td>\n",
       "      <td>2.5</td>\n",
       "      <td>900.0</td>\n",
       "      <td>600.0</td>\n",
       "      <td>500.0</td>\n",
       "      <td>[0.3, 0.4]</td>\n",
       "    </tr>\n",
       "    <tr>\n",
       "      <th>2</th>\n",
       "      <td>nom</td>\n",
       "      <td>2.5</td>\n",
       "      <td>1200.0</td>\n",
       "      <td>600.0</td>\n",
       "      <td>500.0</td>\n",
       "      <td>[0.3, 0.4]</td>\n",
       "    </tr>\n",
       "  </tbody>\n",
       "</table>\n",
       "</div>"
      ],
      "text/plain": [
       "  history  time    fuel   dens   cool     inf_nsf\n",
       "0     nom   2.5   600.0  600.0  500.0  [0.3, 0.4]\n",
       "1     nom   2.5   900.0  600.0  500.0  [0.3, 0.4]\n",
       "2     nom   2.5  1200.0  600.0  500.0  [0.3, 0.4]"
      ]
     },
     "execution_count": 20,
     "metadata": {},
     "output_type": "execute_result"
    }
   ],
   "source": [
    "ms.Values(attrs=[\"inf_nsf\"], time=2.5)"
   ]
  },
  {
   "cell_type": "code",
   "execution_count": 21,
   "metadata": {},
   "outputs": [
    {
     "data": {
      "text/html": [
       "<div>\n",
       "<style scoped>\n",
       "    .dataframe tbody tr th:only-of-type {\n",
       "        vertical-align: middle;\n",
       "    }\n",
       "\n",
       "    .dataframe tbody tr th {\n",
       "        vertical-align: top;\n",
       "    }\n",
       "\n",
       "    .dataframe thead th {\n",
       "        text-align: right;\n",
       "    }\n",
       "</style>\n",
       "<table border=\"1\" class=\"dataframe\">\n",
       "  <thead>\n",
       "    <tr style=\"text-align: right;\">\n",
       "      <th></th>\n",
       "      <th>history</th>\n",
       "      <th>time</th>\n",
       "      <th>fuel</th>\n",
       "      <th>dens</th>\n",
       "      <th>cool</th>\n",
       "      <th>inf_nsf</th>\n",
       "    </tr>\n",
       "  </thead>\n",
       "  <tbody>\n",
       "  </tbody>\n",
       "</table>\n",
       "</div>"
      ],
      "text/plain": [
       "Empty DataFrame\n",
       "Columns: [history, time, fuel, dens, cool, inf_nsf]\n",
       "Index: []"
      ]
     },
     "execution_count": 21,
     "metadata": {},
     "output_type": "execute_result"
    }
   ],
   "source": [
    "ms.Values(attrs=[\"inf_nsf\"], time=0.0)"
   ]
  },
  {
   "cell_type": "markdown",
   "metadata": {},
   "source": [
    "### Condense in energy"
   ]
  },
  {
   "cell_type": "code",
   "execution_count": 22,
   "metadata": {},
   "outputs": [],
   "source": [
    "ms1, NG = ms.Condense([0.0])  # 1-group"
   ]
  },
  {
   "cell_type": "code",
   "execution_count": 23,
   "metadata": {},
   "outputs": [
    {
     "data": {
      "text/html": [
       "<div>\n",
       "<style scoped>\n",
       "    .dataframe tbody tr th:only-of-type {\n",
       "        vertical-align: middle;\n",
       "    }\n",
       "\n",
       "    .dataframe tbody tr th {\n",
       "        vertical-align: top;\n",
       "    }\n",
       "\n",
       "    .dataframe thead th {\n",
       "        text-align: right;\n",
       "    }\n",
       "</style>\n",
       "<table border=\"1\" class=\"dataframe\">\n",
       "  <thead>\n",
       "    <tr style=\"text-align: right;\">\n",
       "      <th></th>\n",
       "      <th>history</th>\n",
       "      <th>time</th>\n",
       "      <th>fuel</th>\n",
       "      <th>dens</th>\n",
       "      <th>cool</th>\n",
       "      <th>inf_nsf</th>\n",
       "    </tr>\n",
       "  </thead>\n",
       "  <tbody>\n",
       "    <tr>\n",
       "      <th>0</th>\n",
       "      <td>nom</td>\n",
       "      <td>2.5</td>\n",
       "      <td>600.0</td>\n",
       "      <td>600.0</td>\n",
       "      <td>500.0</td>\n",
       "      <td>[0.35714285714285715]</td>\n",
       "    </tr>\n",
       "    <tr>\n",
       "      <th>1</th>\n",
       "      <td>nom</td>\n",
       "      <td>2.5</td>\n",
       "      <td>900.0</td>\n",
       "      <td>600.0</td>\n",
       "      <td>500.0</td>\n",
       "      <td>[0.35714285714285715]</td>\n",
       "    </tr>\n",
       "    <tr>\n",
       "      <th>2</th>\n",
       "      <td>nom</td>\n",
       "      <td>2.5</td>\n",
       "      <td>1200.0</td>\n",
       "      <td>600.0</td>\n",
       "      <td>500.0</td>\n",
       "      <td>[0.35714285714285715]</td>\n",
       "    </tr>\n",
       "  </tbody>\n",
       "</table>\n",
       "</div>"
      ],
      "text/plain": [
       "  history  time    fuel   dens   cool                inf_nsf\n",
       "0     nom   2.5   600.0  600.0  500.0  [0.35714285714285715]\n",
       "1     nom   2.5   900.0  600.0  500.0  [0.35714285714285715]\n",
       "2     nom   2.5  1200.0  600.0  500.0  [0.35714285714285715]"
      ]
     },
     "execution_count": 23,
     "metadata": {},
     "output_type": "execute_result"
    }
   ],
   "source": [
    "pdTable = ms1.DataTable(['inf_nsf', 'inf_flx'])\n",
    "ms1.Values(attrs=[\"inf_nsf\"], time=2.5)"
   ]
  },
  {
   "cell_type": "code",
   "execution_count": 24,
   "metadata": {},
   "outputs": [
    {
     "data": {
      "text/plain": [
       "2"
      ]
     },
     "execution_count": 24,
     "metadata": {},
     "output_type": "execute_result"
    }
   ],
   "source": [
    "NG"
   ]
  },
  {
   "cell_type": "markdown",
   "metadata": {},
   "source": [
    "### Data manipulation"
   ]
  },
  {
   "cell_type": "code",
   "execution_count": 25,
   "metadata": {},
   "outputs": [],
   "source": [
    "ms2 = ms.Manipulate([\"add\"], [\"new_add\"], [\"inf_rabs\"], [\"inf_nsf\"])"
   ]
  },
  {
   "cell_type": "code",
   "execution_count": 26,
   "metadata": {},
   "outputs": [
    {
     "data": {
      "text/html": [
       "<div>\n",
       "<style scoped>\n",
       "    .dataframe tbody tr th:only-of-type {\n",
       "        vertical-align: middle;\n",
       "    }\n",
       "\n",
       "    .dataframe tbody tr th {\n",
       "        vertical-align: top;\n",
       "    }\n",
       "\n",
       "    .dataframe thead th {\n",
       "        text-align: right;\n",
       "    }\n",
       "</style>\n",
       "<table border=\"1\" class=\"dataframe\">\n",
       "  <thead>\n",
       "    <tr style=\"text-align: right;\">\n",
       "      <th></th>\n",
       "      <th>history</th>\n",
       "      <th>time</th>\n",
       "      <th>fuel</th>\n",
       "      <th>dens</th>\n",
       "      <th>cool</th>\n",
       "      <th>new_add</th>\n",
       "      <th>inf_rabs</th>\n",
       "    </tr>\n",
       "  </thead>\n",
       "  <tbody>\n",
       "    <tr>\n",
       "      <th>0</th>\n",
       "      <td>nom</td>\n",
       "      <td>2.5</td>\n",
       "      <td>600.0</td>\n",
       "      <td>600.0</td>\n",
       "      <td>500.0</td>\n",
       "      <td>[0.4, 0.6000000000000001]</td>\n",
       "      <td>[0.1, 0.2]</td>\n",
       "    </tr>\n",
       "    <tr>\n",
       "      <th>1</th>\n",
       "      <td>nom</td>\n",
       "      <td>2.5</td>\n",
       "      <td>900.0</td>\n",
       "      <td>600.0</td>\n",
       "      <td>500.0</td>\n",
       "      <td>[0.4, 0.6000000000000001]</td>\n",
       "      <td>[0.1, 0.2]</td>\n",
       "    </tr>\n",
       "    <tr>\n",
       "      <th>2</th>\n",
       "      <td>nom</td>\n",
       "      <td>2.5</td>\n",
       "      <td>1200.0</td>\n",
       "      <td>600.0</td>\n",
       "      <td>500.0</td>\n",
       "      <td>[0.4, 0.6000000000000001]</td>\n",
       "      <td>[0.1, 0.2]</td>\n",
       "    </tr>\n",
       "  </tbody>\n",
       "</table>\n",
       "</div>"
      ],
      "text/plain": [
       "  history  time    fuel   dens   cool                    new_add    inf_rabs\n",
       "0     nom   2.5   600.0  600.0  500.0  [0.4, 0.6000000000000001]  [0.1, 0.2]\n",
       "1     nom   2.5   900.0  600.0  500.0  [0.4, 0.6000000000000001]  [0.1, 0.2]\n",
       "2     nom   2.5  1200.0  600.0  500.0  [0.4, 0.6000000000000001]  [0.1, 0.2]"
      ]
     },
     "execution_count": 26,
     "metadata": {},
     "output_type": "execute_result"
    }
   ],
   "source": [
    "pdTable = ms2.DataTable(['new_add', 'inf_rabs'])\n",
    "ms2.Values(attrs=[\"new_add\", \"inf_rabs\"], time=2.5)"
   ]
  },
  {
   "cell_type": "markdown",
   "metadata": {},
   "source": [
    "### CheckFilters"
   ]
  },
  {
   "cell_type": "code",
   "execution_count": 27,
   "metadata": {},
   "outputs": [],
   "source": [
    "missingData = ms.CheckFilters({'fuel':[600, 1200], 'mod': [600], 'cool': [500]}, [\"nom\"], [2.5], [\"inf_nsf\"])"
   ]
  },
  {
   "cell_type": "code",
   "execution_count": 28,
   "metadata": {},
   "outputs": [
    {
     "data": {
      "text/plain": [
       "[]"
      ]
     },
     "execution_count": 28,
     "metadata": {},
     "output_type": "execute_result"
    }
   ],
   "source": [
    "missingData"
   ]
  },
  {
   "cell_type": "code",
   "execution_count": 29,
   "metadata": {},
   "outputs": [],
   "source": [
    "missingData = ms.CheckFilters({'fuel':[600, 888], 'mod': [600], 'cool': [500]}, [\"nom\"], [2.5], [\"inf_nsf\"])"
   ]
  },
  {
   "cell_type": "code",
   "execution_count": 30,
   "metadata": {},
   "outputs": [
    {
     "data": {
      "text/plain": [
       "[State(history='nom', time=2.5, branch=(888, 600, 500))]"
      ]
     },
     "execution_count": 30,
     "metadata": {},
     "output_type": "execute_result"
    }
   ],
   "source": [
    "missingData"
   ]
  },
  {
   "cell_type": "code",
   "execution_count": null,
   "metadata": {},
   "outputs": [],
   "source": []
  }
 ],
 "metadata": {
  "kernelspec": {
   "display_name": "Python 3 (ipykernel)",
   "language": "python",
   "name": "python3"
  },
  "language_info": {
   "codemirror_mode": {
    "name": "ipython",
    "version": 3
   },
   "file_extension": ".py",
   "mimetype": "text/x-python",
   "name": "python",
   "nbconvert_exporter": "python",
   "pygments_lexer": "ipython3",
   "version": "3.9.7"
  }
 },
 "nbformat": 4,
 "nbformat_minor": 2
}

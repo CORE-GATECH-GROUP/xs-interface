{
 "cells": [
  {
   "cell_type": "markdown",
   "metadata": {},
   "source": [
    "# SingleSet"
   ]
  },
  {
   "cell_type": "markdown",
   "metadata": {},
   "source": [
    "Example on how to collect, store, and process data using the ``SingleSet`` container."
   ]
  },
  {
   "cell_type": "markdown",
   "metadata": {},
   "source": [
    "```python\n",
    "SingleSet(dataSetup, statesSetup, fluxName=None,\n",
    "          energyStruct=None, relPrecision=REL_PRECISION)\n",
    "```"
   ]
  },
  {
   "cell_type": "markdown",
   "metadata": {},
   "source": [
    "## Class Description"
   ]
  },
  {
   "cell_type": "markdown",
   "metadata": {},
   "source": [
    "**Parameters**\n",
    "\n",
    "- dataSetup : DataSettings object,\n",
    "    an object that defines the data (and type) to be collected\n",
    "- statesSetup : Perturbations object,\n",
    "    an object to store the perturbation states including branches, history,\n",
    "    and time parameters.\n",
    "- fluxName : string,\n",
    "    name of the flux variable on the ``datasets`` object.\n",
    "- energyStruct : array,\n",
    "    descending sorted energy structure array. Includes the energy structure\n",
    "    including the lowest and highest energy values.\n",
    "    For a two group structure: [E1, E2, E3],\n",
    "    where E1 is the upper energy bound, E2 is energy cutoff, and E3 is the\n",
    "    lowest energy bound.\n",
    "- relPrecision : float,\n",
    "    relative precision that is used to find if a close perturbation exists\n",
    "\n",
    "**Attributes**\n",
    "\n",
    "- state : dict,\n",
    "    describes the state (branch, time, history)\n",
    "- macro : dict,\n",
    "    names and values of macro data\n",
    "- micro : dict,\n",
    "    names and values of micro data\n",
    "- kinetics : dict,\n",
    "    names and values of kinetics data\n",
    "- meta : dict,\n",
    "    names and values of meta data\n",
    "\n",
    "\n",
    " **Methods**\n",
    "\n",
    "```python\n",
    "    AddState(branch, history=None, timeIdx=None, timePoint=None)\n",
    "```\n",
    "*add data/attributes values*\n",
    "\n",
    "- dtype : str\n",
    "    a string from: [\"macro\", \"micro\", \"kinetics\", \"meta\"]\n",
    "- kwargs : named arguments\n",
    "    keys represent the data name and value represent the values.\n",
    "\n",
    "```python\n",
    "    AddState(branch, dtype, **kwargs)\n",
    "```\n",
    "*describes the state (branch, time, history)*\n",
    "\n",
    "- branch : array, \n",
    "    set of values to describe a specific branch-off\n",
    "    e.g. [Tf, Tm]=[900, 600]\n",
    "- history : string, \n",
    "    the name of the history\n",
    "- timeIdx : int, \n",
    "    time index\n",
    "- timePoint : float, \n",
    "    an existing time point.\n",
    "    If ``timeIdx`` is defined then this is redundant\n",
    "\n",
    "\n",
    "```python\n",
    "    GetValues(attributes)\n",
    "```\n",
    "*get data for specific attribute/s* \n",
    "- attributes : str or list of strings, \n",
    "    names of the attributes\n",
    "\n",
    "```python\n",
    "    Manipulate(modes, attrs, attrs1, attrs2)\n",
    "```\n",
    "*Mathematical operation between two attributes* \n",
    "\n",
    "- modes : string or list of strings\n",
    "    types of the mathematical relation\n",
    "    [\"multiply\", \"divide\", \"add\", \"subtract\"]\n",
    "- attrs : string or list of strings\n",
    "    name/ss of attribute/s where results will be written to.            \n",
    "- attrs1 : string or list of strings\n",
    "    names of attributes type-1 (can be macro or micro)\n",
    "- attrs2 : string or list of strings\n",
    "    names of attributes type-2 (can be macro or micro) \n",
    "\n",
    "\n",
    "```python\n",
    "    Condense(cutoffE)\n",
    "```\n",
    "*Energy condensation method*<br>\n",
    "Condensation is performed for a new energy structure and for all the parameters in the macro and micro dictionaries.\n",
    "- cutoffE : 1-dim array,\n",
    "    energy cutoffs\n",
    "    \n",
    "```python\n",
    "    ProofTest(macro=True, micro=True, kinetics=True, meta=True)\n",
    "```\n",
    "*Check that all data was inputted*<br>\n",
    "- macro : bool,\n",
    "    flag to incdicate if all data in macro must be defined\n",
    "- micro : bool,\n",
    "    flag to incdicate if all data in micro must be defined\n",
    "- kinetics : bool,\n",
    "    flag to incdicate if all data in kinetics must be defined\n",
    "- meta : bool,\n",
    "    flag to incdicate if all data in meta must be defined"
   ]
  },
  {
   "cell_type": "markdown",
   "metadata": {},
   "source": [
    "## Execution Sequence"
   ]
  },
  {
   "cell_type": "code",
   "execution_count": 1,
   "metadata": {},
   "outputs": [],
   "source": [
    "from xsInterface.containers.datasettings import DataSettings\n",
    "from xsInterface.containers.perturbationparameters import Perturbations\n",
    "from xsInterface.containers.singleset import SingleSet"
   ]
  },
  {
   "cell_type": "markdown",
   "metadata": {},
   "source": [
    "### **Data Settings**\n",
    "\n",
    "Define what data needs to be collected."
   ]
  },
  {
   "cell_type": "code",
   "execution_count": 2,
   "metadata": {},
   "outputs": [],
   "source": [
    "# Reset the data\n",
    "rc = DataSettings(NG=2, DN=7, macro=True, micro=True, kinetics=True,\n",
    "                  meta=True, isotopes=[531350, 541350, 922350], nuclides='nd')\n",
    "# Add the variables names to be collected\n",
    "rc.AddData(\"macro\",\n",
    "           [\"inf_rabs\", \"inf_nsf\", \"kappa\", \"inf_flx\", \"inf_sp0\"])\n",
    "rc.AddData(\"kinetics\", [\"beta\", \"decay\"])\n",
    "rc.AddData(\"micro\", [\"sig_c\", \"sig_f\", \"sig_n2n\"])\n",
    "rc.AddData(\"micro\", [\"sig_sct\", \"nd\"])\n",
    "rc.AddData(\"meta\", [\"burnup\", \"keff\"])\n",
    "rc.AddData(\"meta\", [\"date\"])"
   ]
  },
  {
   "cell_type": "markdown",
   "metadata": {},
   "source": [
    "### Define Perturbation States"
   ]
  },
  {
   "cell_type": "code",
   "execution_count": 3,
   "metadata": {},
   "outputs": [],
   "source": [
    "states = Perturbations(branchN=3, branches=[\"fuel\", \"dens\", \"cool\"],\n",
    "                       histN=2, histories=[\"nom\", \"pert\"],\n",
    "                       timeValues=[0, 2, 2.5, 3, 4], timeUnits='MWd/kg')\n",
    "states.AddBranches(fuel=[600, 900, 1200, 1500],\n",
    "                   dens=[600, 700, 800],\n",
    "                   cool=[500, 600])\n",
    "states.AddHistories(nom=[900, 700, 550],\n",
    "                    pert=[950, 750, 600])"
   ]
  },
  {
   "cell_type": "markdown",
   "metadata": {},
   "source": [
    "### Data for a Single State"
   ]
  },
  {
   "cell_type": "markdown",
   "metadata": {},
   "source": [
    "#### Reset and define operation state point"
   ]
  },
  {
   "cell_type": "code",
   "execution_count": 4,
   "metadata": {},
   "outputs": [],
   "source": [
    "ss = SingleSet(rc, states, fluxName=\"inf_flx\",\n",
    "               energyStruct=[10.0E+6, 0.6025, 0.0])\n",
    "ss.AddState([600.001, 600, 500], \"nom\", time=2.5)"
   ]
  },
  {
   "cell_type": "markdown",
   "metadata": {},
   "source": [
    "#### Add macro data"
   ]
  },
  {
   "cell_type": "code",
   "execution_count": 5,
   "metadata": {},
   "outputs": [],
   "source": [
    "ss.AddData(\"macro\", inf_rabs=[0.1, 0.2], inf_nsf=[0.3, 0.4],\n",
    "           kappa=[0.3, 0.4], inf_flx=[0.3, 0.4])\n",
    "ss.AddData(\"macro\", inf_sp0=[[0.1, 0.2], [-0.05, 0.3]])"
   ]
  },
  {
   "cell_type": "markdown",
   "metadata": {},
   "source": [
    "#### Add micro data"
   ]
  },
  {
   "cell_type": "code",
   "execution_count": 6,
   "metadata": {},
   "outputs": [],
   "source": [
    "ss.AddData(\"micro\", sig_c=[[1, 1], [2, 2], [3, 3]])\n",
    "ss.AddData(\"micro\", sig_sct=[[11, 12, 21, 22], [11, 12, 21, 22],\n",
    "                             [11, 12, 21, 22]])\n",
    "ss.AddData(\"micro\", nd=[[1], [1], [1]])"
   ]
  },
  {
   "cell_type": "markdown",
   "metadata": {},
   "source": [
    "#### Add kinetics data"
   ]
  },
  {
   "cell_type": "code",
   "execution_count": 7,
   "metadata": {},
   "outputs": [],
   "source": [
    "ss.AddData(\"kinetics\", beta=[1, 1, 1, 1, 1, 1, 1],\n",
    "           decay=[1, 1, 1, 1, 1, 1, 1])"
   ]
  },
  {
   "cell_type": "markdown",
   "metadata": {},
   "source": [
    "#### Add meta data"
   ]
  },
  {
   "cell_type": "code",
   "execution_count": 8,
   "metadata": {},
   "outputs": [],
   "source": [
    "ss.AddData(\"meta\", burnup=[1, 1, 1, 1],\n",
    "           keff=[1, 1, 1, 1], date=\"April 09, 2022\")"
   ]
  },
  {
   "cell_type": "markdown",
   "metadata": {},
   "source": [
    "#### Check that all the data was properly defined"
   ]
  },
  {
   "cell_type": "code",
   "execution_count": 9,
   "metadata": {},
   "outputs": [],
   "source": [
    "ss.ProofTest(micro=False, kinetics=False, meta=False)"
   ]
  },
  {
   "cell_type": "markdown",
   "metadata": {},
   "source": [
    "#### Get values"
   ]
  },
  {
   "cell_type": "code",
   "execution_count": 10,
   "metadata": {},
   "outputs": [
    {
     "data": {
      "text/plain": [
       "{'inf_flx': array([0.3, 0.4]), 'beta': array([1, 1, 1, 1, 1, 1, 1])}"
      ]
     },
     "execution_count": 10,
     "metadata": {},
     "output_type": "execute_result"
    }
   ],
   "source": [
    "ss.GetValues([\"inf_flx\", \"beta\"])"
   ]
  },
  {
   "cell_type": "markdown",
   "metadata": {},
   "source": [
    "#### Energy condensation"
   ]
  },
  {
   "cell_type": "code",
   "execution_count": 11,
   "metadata": {},
   "outputs": [],
   "source": [
    "ss1 = ss.Condense([0.6025])"
   ]
  },
  {
   "cell_type": "markdown",
   "metadata": {},
   "source": [
    "#### Manipulation"
   ]
  },
  {
   "cell_type": "code",
   "execution_count": 12,
   "metadata": {},
   "outputs": [],
   "source": [
    "ss1 = ss.Manipulate([\"subtract\", \"add\"], [\"new_nsf\", \"new_kappa\"], [\"inf_nsf\", \"inf_rabs\"], [\"kappa\", \"sig_c\"])"
   ]
  },
  {
   "cell_type": "code",
   "execution_count": 13,
   "metadata": {},
   "outputs": [
    {
     "data": {
      "text/plain": [
       "{'inf_rabs': array([0.1, 0.2]),\n",
       " 'inf_nsf': array([0.3, 0.4]),\n",
       " 'kappa': array([0.3, 0.4]),\n",
       " 'inf_flx': array([0.3, 0.4]),\n",
       " 'inf_sp0': array([[ 0.1 ,  0.2 ],\n",
       "        [-0.05,  0.3 ]]),\n",
       " 'new_nsf': array([0., 0.]),\n",
       " 'new_kappa': array([6.1, 6.2])}"
      ]
     },
     "execution_count": 13,
     "metadata": {},
     "output_type": "execute_result"
    }
   ],
   "source": [
    "ss1.macro"
   ]
  },
  {
   "cell_type": "code",
   "execution_count": null,
   "metadata": {},
   "outputs": [],
   "source": []
  }
 ],
 "metadata": {
  "kernelspec": {
   "display_name": "Python 3 (ipykernel)",
   "language": "python",
   "name": "python3"
  },
  "language_info": {
   "codemirror_mode": {
    "name": "ipython",
    "version": 3
   },
   "file_extension": ".py",
   "mimetype": "text/x-python",
   "name": "python",
   "nbconvert_exporter": "python",
   "pygments_lexer": "ipython3",
   "version": "3.9.7"
  }
 },
 "nbformat": 4,
 "nbformat_minor": 2
}
